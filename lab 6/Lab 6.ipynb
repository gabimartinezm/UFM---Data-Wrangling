{
 "cells": [
  {
   "cell_type": "markdown",
   "id": "bfa0e9f8",
   "metadata": {},
   "source": [
    "## Laboratorio 6"
   ]
  },
  {
   "cell_type": "code",
   "execution_count": 10,
   "id": "fa82b1df",
   "metadata": {},
   "outputs": [],
   "source": [
    "import re "
   ]
  },
  {
   "cell_type": "markdown",
   "id": "b6c05ed0",
   "metadata": {},
   "source": [
    "#1\n",
    "\n",
    "Genere una expresión regular que valide si un archivo es de tipo .pdf o jpg. \n",
    "\n",
    "Lista: Ejemplo1.pdf, prueba2.PDF, respuestas_del_examen.jpg, amor.JPG\n"
   ]
  },
  {
   "cell_type": "code",
   "execution_count": 30,
   "id": "3f4b455e",
   "metadata": {},
   "outputs": [
    {
     "name": "stdout",
     "output_type": "stream",
     "text": [
      "Archivos de imagen válidos: ['jpg', 'JPG']\n",
      "Archivos PDF válidos: ['pdf', 'PDF']\n"
     ]
    }
   ],
   "source": [
    "es_foto = r'[^,]*\\.(jpg|JPG)'\n",
    "es_pdf = r'[^,]*\\.(pdf|PDF)'\n",
    "\n",
    "string_1 = \"Ejemplo1.pdf , prueba2.PDF , respuestas_del_examen.jpg , amor.JPG \"\n",
    "\n",
    "resultados_fotos = re.findall(es_foto, string_1)\n",
    "resultados_pdf = re.findall(es_pdf, string_1)\n",
    "\n",
    "print(\"Archivos de imagen válidos:\", resultados_fotos)\n",
    "print(\"Archivos PDF válidos:\", resultados_pdf)"
   ]
  },
  {
   "cell_type": "markdown",
   "id": "6b988d5a",
   "metadata": {},
   "source": [
    "#2\n",
    "\n",
    "Cree una expresión regular que encuentre todas las palabras de la primera línea, pero ninguna de la segunda.\n",
    "\n",
    "    a.\tpit, spot, spate, slap two, respite\n",
    "    b.\tpt,Pot,peat,part\n"
   ]
  },
  {
   "cell_type": "code",
   "execution_count": 44,
   "id": "31c929f8",
   "metadata": {},
   "outputs": [
    {
     "name": "stdout",
     "output_type": "stream",
     "text": [
      "['pit', 'spot', 'spate', 'slap two', 'respite']\n"
     ]
    }
   ],
   "source": [
    "pattern = r'(pi+t|spo+t|\\w*s.{2,4}t\\w*)[^\\s]'\n",
    "string_2 = \"pit, spot, spate, slap two, respite, pt, Pot, peat, part\"\n",
    "x = re.findall(pattern, string_2)\n",
    "print(x)"
   ]
  },
  {
   "cell_type": "markdown",
   "id": "7f903dda",
   "metadata": {},
   "source": [
    "#3\n",
    "\n",
    "Cree una expresión regular para validar un numero de carnet de la Universidad Galileo, por ejemplo 19002324 donde los primeros dos dígitos representan el año en el que el alumno se inscribió los cuales pueden variar desde el 01 (año 2001) hasta el 30 (año 2030). Los siguientes dos dígitos son cero (00) los cuales van por default y los últimos cuatro dígitos son un número que va desde el 1110 hasta el 8970. Para dar su respuesta utilice la notación de expresiones regulares."
   ]
  },
  {
   "cell_type": "code",
   "execution_count": 64,
   "id": "f26512e7",
   "metadata": {},
   "outputs": [
    {
     "name": "stdout",
     "output_type": "stream",
     "text": [
      "['21001219', '21002420']\n"
     ]
    }
   ],
   "source": [
    "pattern_carnet = r'[0-3]\\d00[1110-8970]*[^,]'\n",
    "string_3 = \"21001219, 21002420, 42009398\"\n",
    "resultados_carnet = re.findall(pattern_carnet, string_3)\n",
    "print(resultados_carnet)"
   ]
  },
  {
   "cell_type": "markdown",
   "id": "980f50ca",
   "metadata": {},
   "source": [
    "#4\n",
    "\n",
    "Genere una expresión regular que sea capaz de obtener correos de la UFM."
   ]
  },
  {
   "cell_type": "code",
   "execution_count": 90,
   "id": "2e214570",
   "metadata": {},
   "outputs": [
    {
     "name": "stdout",
     "output_type": "stream",
     "text": [
      "['isabelmarin@ufm.edu', 'mariapaz@ufm.edu']\n"
     ]
    }
   ],
   "source": [
    "pattern_correos = r'\\b[\\w.-]+@ufm\\.edu\\b'\n",
    "string_4 = \"isabelmarin@ufm.edu, mariapaz@ufm.edu, gabimartm@gmail.com\"\n",
    "resultados_correos = re.findall(pattern_correos, string_4)\n",
    "print(resultados_correos)"
   ]
  },
  {
   "cell_type": "markdown",
   "id": "803790f3",
   "metadata": {},
   "source": [
    "#5\n",
    "\n",
    "Cree una expresión regular para obtener los números telefónicos de Guatemala. Estos pueden contener al inicio +502 o 502, pueden estar separados por un espacio en blanco o un guión o juntos. Notar que los números telefónicos pueden empezar únicamente con 4,5,6 o 2. \n",
    "\n",
    "Lista de números: +50254821151, 4210-7640, 52018150, 2434 6854, 11234569, 50211234578\n"
   ]
  },
  {
   "cell_type": "code",
   "execution_count": 117,
   "id": "a22daea7",
   "metadata": {},
   "outputs": [
    {
     "name": "stdout",
     "output_type": "stream",
     "text": [
      "['+50254821151', '4210-7640', '52018150', '2434 6854', '11234569', '50211234578']\n"
     ]
    }
   ],
   "source": [
    "pattern_telefonos = r'[502|+502]?\\d{4,7}\\s?-?\\d{4}'\n",
    "string_5 = \"+50254821151, 4210-7640, 52018150, 2434 6854, 11234569, 50211234578\"\n",
    "resultados_correos = re.findall(pattern_telefonos, string_5)\n",
    "print(resultados_correos)"
   ]
  },
  {
   "cell_type": "markdown",
   "id": "768311b0",
   "metadata": {},
   "source": [
    "#6\n",
    "\n",
    "Genere una expresión regular que sea capaz de detectar las placas de un vehículo particular guatemalteco."
   ]
  },
  {
   "cell_type": "code",
   "execution_count": 119,
   "id": "149168da",
   "metadata": {},
   "outputs": [
    {
     "name": "stdout",
     "output_type": "stream",
     "text": [
      "['P492GZC', 'P516DJH']\n"
     ]
    }
   ],
   "source": [
    "#las placas de un vehiculo particular en guatemala comienzan con la letra \"P\"\n",
    "pattern_placas = r'P\\w{6}'\n",
    "string_6 = \"A123SAM, P492GZC, C407BTJ, P516DJH\"\n",
    "resultados_placas = re.findall(pattern_placas, string_6)\n",
    "print(resultados_placas)"
   ]
  }
 ],
 "metadata": {
  "kernelspec": {
   "display_name": "Python 3 (ipykernel)",
   "language": "python",
   "name": "python3"
  },
  "language_info": {
   "codemirror_mode": {
    "name": "ipython",
    "version": 3
   },
   "file_extension": ".py",
   "mimetype": "text/x-python",
   "name": "python",
   "nbconvert_exporter": "python",
   "pygments_lexer": "ipython3",
   "version": "3.11.3"
  }
 },
 "nbformat": 4,
 "nbformat_minor": 5
}
